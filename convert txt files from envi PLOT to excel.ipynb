{
 "cells": [
  {
   "cell_type": "code",
   "execution_count": null,
   "metadata": {},
   "outputs": [],
   "source": [
    "##the name of the excel is the name of the ascii\n",
    "\n",
    "import os\n",
    "import pandas as pd\n",
    "\n",
    "src = r\"N:\\data\"\n",
    "\n",
    "for txt_file in os.listdir(src):\n",
    "    \n",
    "    data = []\n",
    "    df_list = []\n",
    "    sheet_names = []\n",
    "\n",
    "    if txt_file.endswith(\".txt\"):\n",
    "        print txt_file\n",
    "        sheet_name1 = txt_file.split(\".\")[0]\n",
    "        if len(sheet_name1) > 31:\n",
    "            sheet_name1 = sheet_name1[:31]\n",
    "        sheet_names.append(sheet_name1)\n",
    "        with open(os.path.join(src,txt_file)) as f:\n",
    "            col_names = []\n",
    "            data = []\n",
    "            content = f.readlines()\n",
    "            content = [x.strip() for x in content] #remove whitespace characters like `\\n` at the end of each line\n",
    "            content.pop(0) #the first item is the date of the creation\n",
    "            for i in content:\n",
    "                if \"Column\" in i:\n",
    "                    ii = i.split(\"~\")\n",
    "                    iii = ii[0].split(\":\")\n",
    "                    col_names.append(iii[1])\n",
    "                else:\n",
    "                    row = \" \".join(i.split())        \n",
    "                    data.append(row.split(\" \"))      \n",
    "\n",
    "            df = pd.DataFrame(data, columns=col_names)\n",
    "            df_list.append(df)\n",
    "            \n",
    "    excel_file = txt_file[:-3] + 'xlsx'\n",
    "    excel_path = os.path.join(src,excel_file)\n",
    "    writer = pd.ExcelWriter(excel_path, engine='xlsxwriter', options={'strings_to_numbers': True})\n",
    "    for k in range(len(sheet_names)):\n",
    "        df_list[k].to_excel(writer,sheet_name =sheet_names[k], index=False )\n",
    "\n",
    "    writer.save()          \n",
    "            \n",
    "print \"finish\""
   ]
  }
 ],
 "metadata": {
  "kernelspec": {
   "display_name": "Python 2",
   "language": "python",
   "name": "python2"
  },
  "language_info": {
   "codemirror_mode": {
    "name": "ipython",
    "version": 2
   },
   "file_extension": ".py",
   "mimetype": "text/x-python",
   "name": "python",
   "nbconvert_exporter": "python",
   "pygments_lexer": "ipython2",
   "version": "2.7.13"
  }
 },
 "nbformat": 4,
 "nbformat_minor": 2
}
